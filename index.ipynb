{
 "cells": [
  {
   "cell_type": "code",
   "execution_count": null,
   "metadata": {},
   "outputs": [],
   "source": [
    "print("Hello world")",
   ]
  },
  {
   "cell_type": "markdown",
   "metadata": {},
   "source": [
    "_________________________________________________________________________\n",
    "Ist das folgende ein Compilerfehler, Laufzeitfehler oder gar kein Fehler?"
   ]
  }
 ],
 "metadata": {
  "kernelspec": {
   "display_name": "Python",
   "language": "",
   "name": "ckernel"
  },
  "language_info": {
   "codemirror_mode": "text/x-csrc",
   "name": "python"
  }
 },
 "nbformat": 4,
 "nbformat_minor": 4
}
